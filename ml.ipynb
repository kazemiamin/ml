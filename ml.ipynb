{
 "cells": [
  {
   "cell_type": "markdown",
   "metadata": {},
   "source": [
    "<div dir=\"rtl\" style=\"font-size:16px;\">\n",
    "<b>پیش بینی دیابت با استفاده از الگوریتم های یادگیری با ناظر</b>\n",
    "<hr>\n",
    "<b>پروژه درس یادگیری ماشین</b>\n",
    "<br><br>\n",
    "<b>استاد:</b> دکتر کتانفروش\n",
    "<br><br>\n",
    "<b>دانشجویان:</b> امیرحسین فیروزیان - امین کاظمی\n",
    "<hr>\n",
    "داده های مورد استفاده:\n",
    "</div>    \n",
    "<a href=\"https://www.kaggle.com/datasets/amnkzm/diabetes\">https://www.kaggle.com/datasets/amnkzm/diabetes</a>\n",
    "<hr>\n",
    "<div dir=\"rtl\" style=\"font-size:16px;\">\n",
    "ابتدا کتابخانه های مورد نیاز را وارد می کنیم:\n",
    "</div>"
   ]
  },
  {
   "cell_type": "code",
   "execution_count": 1,
   "metadata": {},
   "outputs": [],
   "source": [
    "import numpy as np\n",
    "import pandas as pd"
   ]
  },
  {
   "cell_type": "markdown",
   "metadata": {},
   "source": [
    "<div dir=\"rtl\" style=\"font-size:16px;\">\n",
    "سپس دیتاست مورد نظر را لود می کنیم:\n",
    "</div>"
   ]
  },
  {
   "cell_type": "code",
   "execution_count": 2,
   "metadata": {},
   "outputs": [],
   "source": [
    "df = pd.read_csv('diabetes.csv')"
   ]
  },
  {
   "cell_type": "markdown",
   "metadata": {},
   "source": [
    "<div dir=\"rtl\" style=\"font-size:16px;\">\n",
    "<b>بررسی دیتاست</b>\n",
    "<br><br>\n",
    "برای اینکه کمی با داده های موجود در دیتاست آشنا شویم، با استفاده از دستورات زیر عناوین هر ستون، تعداد کل داده ها، وجود یا عدم وجود missing value را بررسی می کنیم.\n",
    "<br><br><hr>\n",
    "ابتدا با دستور زیر تعداد سطرها و ستون های این دیتاست را مشاهده می کنیم:\n",
    "</div>"
   ]
  },
  {
   "cell_type": "code",
   "execution_count": 3,
   "metadata": {},
   "outputs": [
    {
     "data": {
      "text/plain": [
       "(2000, 9)"
      ]
     },
     "execution_count": 3,
     "metadata": {},
     "output_type": "execute_result"
    }
   ],
   "source": [
    "df.shape"
   ]
  },
  {
   "cell_type": "markdown",
   "metadata": {},
   "source": [
    "<div dir=\"rtl\" style=\"font-size:16px;\">\n",
    "و با دستور زیر عنوان هر ستون را مشاهده می کنیم:\n",
    "</div>"
   ]
  },
  {
   "cell_type": "code",
   "execution_count": 4,
   "metadata": {},
   "outputs": [
    {
     "data": {
      "text/plain": [
       "Index(['Pregnancies', 'Glucose', 'BloodPressure', 'SkinThickness', 'Insulin',\n",
       "       'BMI', 'DiabetesPedigreeFunction', 'Age', 'Outcome'],\n",
       "      dtype='object')"
      ]
     },
     "execution_count": 4,
     "metadata": {},
     "output_type": "execute_result"
    }
   ],
   "source": [
    "df.columns"
   ]
  },
  {
   "cell_type": "markdown",
   "metadata": {},
   "source": [
    "<div dir=\"rtl\" style=\"font-size:16px;\">\n",
    "هما نطور که مشاهده می شود این دیتاست دارای 2000 سطر(داده) و 9 ستون(فیچر) می باشد، که عبارتند از:\n",
    "<br><br> <b> >>> </b>\n",
    "تعداد بارداری این افراد  (Pregnancies)\n",
    "<br><br> <b> >>> </b>\n",
    "میزان گلوکوز خون (Glucose)\n",
    "<br><br> <b> >>> </b>\n",
    "میزان فشار خون (BloodPressure)\n",
    "<br><br> <b> >>> </b>\n",
    "ضخامت پوست (SkinThickness)\n",
    "<br><br> <b> >>> </b>\n",
    "میزان انسولین (Insulin)\n",
    "<br><br> <b> >>> </b>\n",
    "شاخص توده بندی (BMI)\n",
    "<br><br> <b> >>> </b>\n",
    "تابع سابقه دیابت در خانواده (DiabetesPedigreeFunction)\n",
    "<br><br> <b> >>> </b>\n",
    "سن (Age)\n",
    "<br><br> <b> >>> </b>\n",
    "نتیجه (Outcome)\n",
    "<br><br><hr>\n",
    "با دستور زیر نوع داده ای هر ستون را مشاهده می کنیم:\n",
    "</div>"
   ]
  },
  {
   "cell_type": "code",
   "execution_count": 5,
   "metadata": {},
   "outputs": [
    {
     "data": {
      "text/plain": [
       "Pregnancies                   int64\n",
       "Glucose                       int64\n",
       "BloodPressure                 int64\n",
       "SkinThickness                 int64\n",
       "Insulin                       int64\n",
       "BMI                         float64\n",
       "DiabetesPedigreeFunction    float64\n",
       "Age                           int64\n",
       "Outcome                       int64\n",
       "dtype: object"
      ]
     },
     "execution_count": 5,
     "metadata": {},
     "output_type": "execute_result"
    }
   ],
   "source": [
    "df.dtypes"
   ]
  },
  {
   "cell_type": "markdown",
   "metadata": {},
   "source": [
    "<div dir=\"rtl\" style=\"font-size:16px;\">\n",
    "همانطور که مشاهده می شود 7 ستون از نوع اعداد صحیح و 2 ستون از نوع اعداد اعشاری می باشند.\n",
    "<br><br><hr>\n",
    "با دستور زیر پنج سطر اول این داده ها را مشاهده می کنیم:\n",
    "</div>"
   ]
  },
  {
   "cell_type": "code",
   "execution_count": 6,
   "metadata": {},
   "outputs": [
    {
     "data": {
      "text/html": [
       "<div>\n",
       "<style scoped>\n",
       "    .dataframe tbody tr th:only-of-type {\n",
       "        vertical-align: middle;\n",
       "    }\n",
       "\n",
       "    .dataframe tbody tr th {\n",
       "        vertical-align: top;\n",
       "    }\n",
       "\n",
       "    .dataframe thead th {\n",
       "        text-align: right;\n",
       "    }\n",
       "</style>\n",
       "<table border=\"1\" class=\"dataframe\">\n",
       "  <thead>\n",
       "    <tr style=\"text-align: right;\">\n",
       "      <th></th>\n",
       "      <th>Pregnancies</th>\n",
       "      <th>Glucose</th>\n",
       "      <th>BloodPressure</th>\n",
       "      <th>SkinThickness</th>\n",
       "      <th>Insulin</th>\n",
       "      <th>BMI</th>\n",
       "      <th>DiabetesPedigreeFunction</th>\n",
       "      <th>Age</th>\n",
       "      <th>Outcome</th>\n",
       "    </tr>\n",
       "  </thead>\n",
       "  <tbody>\n",
       "    <tr>\n",
       "      <th>0</th>\n",
       "      <td>2</td>\n",
       "      <td>138</td>\n",
       "      <td>62</td>\n",
       "      <td>35</td>\n",
       "      <td>0</td>\n",
       "      <td>33.6</td>\n",
       "      <td>0.127</td>\n",
       "      <td>47</td>\n",
       "      <td>1</td>\n",
       "    </tr>\n",
       "    <tr>\n",
       "      <th>1</th>\n",
       "      <td>0</td>\n",
       "      <td>84</td>\n",
       "      <td>82</td>\n",
       "      <td>31</td>\n",
       "      <td>125</td>\n",
       "      <td>38.2</td>\n",
       "      <td>0.233</td>\n",
       "      <td>23</td>\n",
       "      <td>0</td>\n",
       "    </tr>\n",
       "    <tr>\n",
       "      <th>2</th>\n",
       "      <td>0</td>\n",
       "      <td>145</td>\n",
       "      <td>0</td>\n",
       "      <td>0</td>\n",
       "      <td>0</td>\n",
       "      <td>44.2</td>\n",
       "      <td>0.630</td>\n",
       "      <td>31</td>\n",
       "      <td>1</td>\n",
       "    </tr>\n",
       "    <tr>\n",
       "      <th>3</th>\n",
       "      <td>0</td>\n",
       "      <td>135</td>\n",
       "      <td>68</td>\n",
       "      <td>42</td>\n",
       "      <td>250</td>\n",
       "      <td>42.3</td>\n",
       "      <td>0.365</td>\n",
       "      <td>24</td>\n",
       "      <td>1</td>\n",
       "    </tr>\n",
       "    <tr>\n",
       "      <th>4</th>\n",
       "      <td>1</td>\n",
       "      <td>139</td>\n",
       "      <td>62</td>\n",
       "      <td>41</td>\n",
       "      <td>480</td>\n",
       "      <td>40.7</td>\n",
       "      <td>0.536</td>\n",
       "      <td>21</td>\n",
       "      <td>0</td>\n",
       "    </tr>\n",
       "  </tbody>\n",
       "</table>\n",
       "</div>"
      ],
      "text/plain": [
       "   Pregnancies  Glucose  BloodPressure  SkinThickness  Insulin   BMI  \\\n",
       "0            2      138             62             35        0  33.6   \n",
       "1            0       84             82             31      125  38.2   \n",
       "2            0      145              0              0        0  44.2   \n",
       "3            0      135             68             42      250  42.3   \n",
       "4            1      139             62             41      480  40.7   \n",
       "\n",
       "   DiabetesPedigreeFunction  Age  Outcome  \n",
       "0                     0.127   47        1  \n",
       "1                     0.233   23        0  \n",
       "2                     0.630   31        1  \n",
       "3                     0.365   24        1  \n",
       "4                     0.536   21        0  "
      ]
     },
     "execution_count": 6,
     "metadata": {},
     "output_type": "execute_result"
    }
   ],
   "source": [
    "df.head()"
   ]
  },
  {
   "cell_type": "markdown",
   "metadata": {},
   "source": [
    "<div dir=\"rtl\" style=\"font-size:16px;\">\n",
    "با دستور زیر اطلاعات کلی درباره این دیتاست را مشاهده می کنیم:\n",
    "</div>"
   ]
  },
  {
   "cell_type": "code",
   "execution_count": 7,
   "metadata": {},
   "outputs": [
    {
     "name": "stdout",
     "output_type": "stream",
     "text": [
      "<class 'pandas.core.frame.DataFrame'>\n",
      "RangeIndex: 2000 entries, 0 to 1999\n",
      "Data columns (total 9 columns):\n",
      " #   Column                    Non-Null Count  Dtype  \n",
      "---  ------                    --------------  -----  \n",
      " 0   Pregnancies               2000 non-null   int64  \n",
      " 1   Glucose                   2000 non-null   int64  \n",
      " 2   BloodPressure             2000 non-null   int64  \n",
      " 3   SkinThickness             2000 non-null   int64  \n",
      " 4   Insulin                   2000 non-null   int64  \n",
      " 5   BMI                       2000 non-null   float64\n",
      " 6   DiabetesPedigreeFunction  2000 non-null   float64\n",
      " 7   Age                       2000 non-null   int64  \n",
      " 8   Outcome                   2000 non-null   int64  \n",
      "dtypes: float64(2), int64(7)\n",
      "memory usage: 140.8 KB\n"
     ]
    }
   ],
   "source": [
    "df.info()"
   ]
  },
  {
   "cell_type": "markdown",
   "metadata": {},
   "source": [
    "<div dir=\"rtl\" style=\"font-size:16px;\">\n",
    "با دستور زیر اطلاعات آماری این داده را از قبیل میانگین، واریانس، میانه، مد، چارک ها و ... را بررسی می کنیم:\n",
    "</div>"
   ]
  },
  {
   "cell_type": "code",
   "execution_count": 8,
   "metadata": {},
   "outputs": [
    {
     "data": {
      "text/html": [
       "<div>\n",
       "<style scoped>\n",
       "    .dataframe tbody tr th:only-of-type {\n",
       "        vertical-align: middle;\n",
       "    }\n",
       "\n",
       "    .dataframe tbody tr th {\n",
       "        vertical-align: top;\n",
       "    }\n",
       "\n",
       "    .dataframe thead th {\n",
       "        text-align: right;\n",
       "    }\n",
       "</style>\n",
       "<table border=\"1\" class=\"dataframe\">\n",
       "  <thead>\n",
       "    <tr style=\"text-align: right;\">\n",
       "      <th></th>\n",
       "      <th>count</th>\n",
       "      <th>mean</th>\n",
       "      <th>std</th>\n",
       "      <th>min</th>\n",
       "      <th>25%</th>\n",
       "      <th>50%</th>\n",
       "      <th>75%</th>\n",
       "      <th>max</th>\n",
       "    </tr>\n",
       "  </thead>\n",
       "  <tbody>\n",
       "    <tr>\n",
       "      <th>Pregnancies</th>\n",
       "      <td>2000.0</td>\n",
       "      <td>3.70350</td>\n",
       "      <td>3.306063</td>\n",
       "      <td>0.000</td>\n",
       "      <td>1.000</td>\n",
       "      <td>3.000</td>\n",
       "      <td>6.000</td>\n",
       "      <td>17.00</td>\n",
       "    </tr>\n",
       "    <tr>\n",
       "      <th>Glucose</th>\n",
       "      <td>2000.0</td>\n",
       "      <td>121.18250</td>\n",
       "      <td>32.068636</td>\n",
       "      <td>0.000</td>\n",
       "      <td>99.000</td>\n",
       "      <td>117.000</td>\n",
       "      <td>141.000</td>\n",
       "      <td>199.00</td>\n",
       "    </tr>\n",
       "    <tr>\n",
       "      <th>BloodPressure</th>\n",
       "      <td>2000.0</td>\n",
       "      <td>69.14550</td>\n",
       "      <td>19.188315</td>\n",
       "      <td>0.000</td>\n",
       "      <td>63.500</td>\n",
       "      <td>72.000</td>\n",
       "      <td>80.000</td>\n",
       "      <td>122.00</td>\n",
       "    </tr>\n",
       "    <tr>\n",
       "      <th>SkinThickness</th>\n",
       "      <td>2000.0</td>\n",
       "      <td>20.93500</td>\n",
       "      <td>16.103243</td>\n",
       "      <td>0.000</td>\n",
       "      <td>0.000</td>\n",
       "      <td>23.000</td>\n",
       "      <td>32.000</td>\n",
       "      <td>110.00</td>\n",
       "    </tr>\n",
       "    <tr>\n",
       "      <th>Insulin</th>\n",
       "      <td>2000.0</td>\n",
       "      <td>80.25400</td>\n",
       "      <td>111.180534</td>\n",
       "      <td>0.000</td>\n",
       "      <td>0.000</td>\n",
       "      <td>40.000</td>\n",
       "      <td>130.000</td>\n",
       "      <td>744.00</td>\n",
       "    </tr>\n",
       "    <tr>\n",
       "      <th>BMI</th>\n",
       "      <td>2000.0</td>\n",
       "      <td>32.19300</td>\n",
       "      <td>8.149901</td>\n",
       "      <td>0.000</td>\n",
       "      <td>27.375</td>\n",
       "      <td>32.300</td>\n",
       "      <td>36.800</td>\n",
       "      <td>80.60</td>\n",
       "    </tr>\n",
       "    <tr>\n",
       "      <th>DiabetesPedigreeFunction</th>\n",
       "      <td>2000.0</td>\n",
       "      <td>0.47093</td>\n",
       "      <td>0.323553</td>\n",
       "      <td>0.078</td>\n",
       "      <td>0.244</td>\n",
       "      <td>0.376</td>\n",
       "      <td>0.624</td>\n",
       "      <td>2.42</td>\n",
       "    </tr>\n",
       "    <tr>\n",
       "      <th>Age</th>\n",
       "      <td>2000.0</td>\n",
       "      <td>33.09050</td>\n",
       "      <td>11.786423</td>\n",
       "      <td>21.000</td>\n",
       "      <td>24.000</td>\n",
       "      <td>29.000</td>\n",
       "      <td>40.000</td>\n",
       "      <td>81.00</td>\n",
       "    </tr>\n",
       "    <tr>\n",
       "      <th>Outcome</th>\n",
       "      <td>2000.0</td>\n",
       "      <td>0.34200</td>\n",
       "      <td>0.474498</td>\n",
       "      <td>0.000</td>\n",
       "      <td>0.000</td>\n",
       "      <td>0.000</td>\n",
       "      <td>1.000</td>\n",
       "      <td>1.00</td>\n",
       "    </tr>\n",
       "  </tbody>\n",
       "</table>\n",
       "</div>"
      ],
      "text/plain": [
       "                           count       mean         std     min     25%  \\\n",
       "Pregnancies               2000.0    3.70350    3.306063   0.000   1.000   \n",
       "Glucose                   2000.0  121.18250   32.068636   0.000  99.000   \n",
       "BloodPressure             2000.0   69.14550   19.188315   0.000  63.500   \n",
       "SkinThickness             2000.0   20.93500   16.103243   0.000   0.000   \n",
       "Insulin                   2000.0   80.25400  111.180534   0.000   0.000   \n",
       "BMI                       2000.0   32.19300    8.149901   0.000  27.375   \n",
       "DiabetesPedigreeFunction  2000.0    0.47093    0.323553   0.078   0.244   \n",
       "Age                       2000.0   33.09050   11.786423  21.000  24.000   \n",
       "Outcome                   2000.0    0.34200    0.474498   0.000   0.000   \n",
       "\n",
       "                              50%      75%     max  \n",
       "Pregnancies                 3.000    6.000   17.00  \n",
       "Glucose                   117.000  141.000  199.00  \n",
       "BloodPressure              72.000   80.000  122.00  \n",
       "SkinThickness              23.000   32.000  110.00  \n",
       "Insulin                    40.000  130.000  744.00  \n",
       "BMI                        32.300   36.800   80.60  \n",
       "DiabetesPedigreeFunction    0.376    0.624    2.42  \n",
       "Age                        29.000   40.000   81.00  \n",
       "Outcome                     0.000    1.000    1.00  "
      ]
     },
     "execution_count": 8,
     "metadata": {},
     "output_type": "execute_result"
    }
   ],
   "source": [
    "df.describe().T"
   ]
  },
  {
   "cell_type": "markdown",
   "metadata": {},
   "source": [
    "<div dir=\"rtl\" style=\"font-size:16px;\">\n",
    "با نگاه اجمالی به خروجی دستور قبل، به عنوان مثال می توان دریافت که میانگین قند خون این افراد 121 و فشار خون آن ها 69 می باشد.\n",
    "<br><br><hr>\n",
    "با استفاده از دستور زیر نیز می توان به وجود یا عدم وجود missing value پی برد:\n",
    "</div>"
   ]
  },
  {
   "cell_type": "code",
   "execution_count": 9,
   "metadata": {},
   "outputs": [
    {
     "data": {
      "text/plain": [
       "Pregnancies                 False\n",
       "Glucose                     False\n",
       "BloodPressure               False\n",
       "SkinThickness               False\n",
       "Insulin                     False\n",
       "BMI                         False\n",
       "DiabetesPedigreeFunction    False\n",
       "Age                         False\n",
       "Outcome                     False\n",
       "dtype: bool"
      ]
     },
     "execution_count": 9,
     "metadata": {},
     "output_type": "execute_result"
    }
   ],
   "source": [
    "df.isnull().any()"
   ]
  },
  {
   "cell_type": "markdown",
   "metadata": {},
   "source": [
    "<div dir=\"rtl\" style=\"font-size:16px;\">\n",
    "همانگونه که مشاهده می شود این دیتاست دارای missing value نیست.\n",
    "<br><br><hr>\n",
    "برای مختصر نویسی نام ستون (DiabetesPedigreeFunction) را با استفاده از دستور زیر به اختصار (DPF) قرار می دهیم:\n",
    "</div>"
   ]
  },
  {
   "cell_type": "code",
   "execution_count": 10,
   "metadata": {},
   "outputs": [
    {
     "data": {
      "text/html": [
       "<div>\n",
       "<style scoped>\n",
       "    .dataframe tbody tr th:only-of-type {\n",
       "        vertical-align: middle;\n",
       "    }\n",
       "\n",
       "    .dataframe tbody tr th {\n",
       "        vertical-align: top;\n",
       "    }\n",
       "\n",
       "    .dataframe thead th {\n",
       "        text-align: right;\n",
       "    }\n",
       "</style>\n",
       "<table border=\"1\" class=\"dataframe\">\n",
       "  <thead>\n",
       "    <tr style=\"text-align: right;\">\n",
       "      <th></th>\n",
       "      <th>Pregnancies</th>\n",
       "      <th>Glucose</th>\n",
       "      <th>BloodPressure</th>\n",
       "      <th>SkinThickness</th>\n",
       "      <th>Insulin</th>\n",
       "      <th>BMI</th>\n",
       "      <th>DPF</th>\n",
       "      <th>Age</th>\n",
       "      <th>Outcome</th>\n",
       "    </tr>\n",
       "  </thead>\n",
       "  <tbody>\n",
       "    <tr>\n",
       "      <th>0</th>\n",
       "      <td>2</td>\n",
       "      <td>138</td>\n",
       "      <td>62</td>\n",
       "      <td>35</td>\n",
       "      <td>0</td>\n",
       "      <td>33.6</td>\n",
       "      <td>0.127</td>\n",
       "      <td>47</td>\n",
       "      <td>1</td>\n",
       "    </tr>\n",
       "    <tr>\n",
       "      <th>1</th>\n",
       "      <td>0</td>\n",
       "      <td>84</td>\n",
       "      <td>82</td>\n",
       "      <td>31</td>\n",
       "      <td>125</td>\n",
       "      <td>38.2</td>\n",
       "      <td>0.233</td>\n",
       "      <td>23</td>\n",
       "      <td>0</td>\n",
       "    </tr>\n",
       "    <tr>\n",
       "      <th>2</th>\n",
       "      <td>0</td>\n",
       "      <td>145</td>\n",
       "      <td>0</td>\n",
       "      <td>0</td>\n",
       "      <td>0</td>\n",
       "      <td>44.2</td>\n",
       "      <td>0.630</td>\n",
       "      <td>31</td>\n",
       "      <td>1</td>\n",
       "    </tr>\n",
       "    <tr>\n",
       "      <th>3</th>\n",
       "      <td>0</td>\n",
       "      <td>135</td>\n",
       "      <td>68</td>\n",
       "      <td>42</td>\n",
       "      <td>250</td>\n",
       "      <td>42.3</td>\n",
       "      <td>0.365</td>\n",
       "      <td>24</td>\n",
       "      <td>1</td>\n",
       "    </tr>\n",
       "    <tr>\n",
       "      <th>4</th>\n",
       "      <td>1</td>\n",
       "      <td>139</td>\n",
       "      <td>62</td>\n",
       "      <td>41</td>\n",
       "      <td>480</td>\n",
       "      <td>40.7</td>\n",
       "      <td>0.536</td>\n",
       "      <td>21</td>\n",
       "      <td>0</td>\n",
       "    </tr>\n",
       "  </tbody>\n",
       "</table>\n",
       "</div>"
      ],
      "text/plain": [
       "   Pregnancies  Glucose  BloodPressure  SkinThickness  Insulin   BMI    DPF  \\\n",
       "0            2      138             62             35        0  33.6  0.127   \n",
       "1            0       84             82             31      125  38.2  0.233   \n",
       "2            0      145              0              0        0  44.2  0.630   \n",
       "3            0      135             68             42      250  42.3  0.365   \n",
       "4            1      139             62             41      480  40.7  0.536   \n",
       "\n",
       "   Age  Outcome  \n",
       "0   47        1  \n",
       "1   23        0  \n",
       "2   31        1  \n",
       "3   24        1  \n",
       "4   21        0  "
      ]
     },
     "execution_count": 10,
     "metadata": {},
     "output_type": "execute_result"
    }
   ],
   "source": [
    "df = df.rename(columns={'DiabetesPedigreeFunction':'DPF'})\n",
    "df.head()"
   ]
  },
  {
   "cell_type": "markdown",
   "metadata": {},
   "source": [
    "<div dir=\"rtl\" style=\"font-size:16px;\">\n",
    "کتابخانه های مورد نیاز برای رسم نمودار را با دستور زیر وارد می کنیم:\n",
    "</div>"
   ]
  },
  {
   "cell_type": "code",
   "execution_count": 11,
   "metadata": {},
   "outputs": [],
   "source": [
    "import matplotlib.pyplot as plt\n",
    "import seaborn as sns\n",
    "%matplotlib inline"
   ]
  },
  {
   "cell_type": "markdown",
   "metadata": {},
   "source": [
    "<div dir=\"rtl\" style=\"font-size:16px;\">\n",
    "نمودار را براساس داده های برچسب گذاری شده (تارگت) رسم می کنیم:\n",
    "</div>"
   ]
  },
  {
   "cell_type": "code",
   "execution_count": 12,
   "metadata": {},
   "outputs": [
    {
     "data": {
      "image/png": "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\n",
      "text/plain": [
       "<Figure size 720x504 with 1 Axes>"
      ]
     },
     "metadata": {
      "needs_background": "light"
     },
     "output_type": "display_data"
    }
   ],
   "source": [
    "plt.figure(figsize=(10,7))\n",
    "sns.countplot(x='Outcome', data=df)\n",
    "plt.xlabel('Has Diabetes')\n",
    "plt.ylabel('Count')\n",
    "plt.show()"
   ]
  },
  {
   "cell_type": "markdown",
   "metadata": {},
   "source": [
    "<div dir=\"rtl\" style=\"font-size:16px;\">\n",
    "در این مرحله مقادیر صفر که به معنی اندازه گیری نشده هستند را در ستون های (Glucose, BloodPressure, SkinThickness, Insulin, BMI) برابر NaN (Not a Number) قرار می دهیم:\n",
    "</div>"
   ]
  },
  {
   "cell_type": "code",
   "execution_count": 13,
   "metadata": {},
   "outputs": [
    {
     "data": {
      "text/plain": [
       "Pregnancies        0\n",
       "Glucose           13\n",
       "BloodPressure     90\n",
       "SkinThickness    573\n",
       "Insulin          956\n",
       "BMI               28\n",
       "DPF                0\n",
       "Age                0\n",
       "Outcome            0\n",
       "dtype: int64"
      ]
     },
     "execution_count": 13,
     "metadata": {},
     "output_type": "execute_result"
    }
   ],
   "source": [
    "df_copy = df.copy(deep=True)\n",
    "df_copy[['Glucose','BloodPressure','SkinThickness','Insulin','BMI']] = df_copy[['Glucose','BloodPressure','SkinThickness','Insulin','BMI']].replace(0,np.NaN)\n",
    "df_copy.isnull().sum()"
   ]
  },
  {
   "cell_type": "markdown",
   "metadata": {},
   "source": [
    "<div dir=\"rtl\" style=\"font-size:16px;\">\n",
    "برای جایگزینی مقادیر NaN با یک مقدار، نیاز به مشخص شدن توزیع داده ها داریم، به همین منظور نمودار هیستوگرام این داده ها را رسم می کنیم:\n",
    "</div>"
   ]
  },
  {
   "cell_type": "code",
   "execution_count": 16,
   "metadata": {},
   "outputs": [
    {
     "data": {
      "image/png": "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\n",
      "text/plain": [
       "<Figure size 1080x1080 with 9 Axes>"
      ]
     },
     "metadata": {
      "needs_background": "light"
     },
     "output_type": "display_data"
    }
   ],
   "source": [
    "p = df_copy.hist(figsize = (15,15))"
   ]
  },
  {
   "cell_type": "markdown",
   "metadata": {},
   "source": [
    "<div dir=\"rtl\" style=\"font-size:16px;\">\n",
    "حال مقدار NaN را در ستون های (Glucose, BloodPressure) با توجه به اینکه توزیع آن ها شبیه توزیع نرمال است برابر با میانگین داده های آن ستون و در ستون های (SkinThickness, Insulin, BMI) برابر با میانه آن ستون قرار می دهیم.\n",
    "</div>"
   ]
  },
  {
   "cell_type": "code",
   "execution_count": 17,
   "metadata": {},
   "outputs": [],
   "source": [
    "df_copy['Glucose'].fillna(df_copy['Glucose'].mean(), inplace=True)\n",
    "df_copy['BloodPressure'].fillna(df_copy['BloodPressure'].mean(), inplace=True)\n",
    "df_copy['SkinThickness'].fillna(df_copy['SkinThickness'].median(), inplace=True)\n",
    "df_copy['Insulin'].fillna(df_copy['Insulin'].median(), inplace=True)\n",
    "df_copy['BMI'].fillna(df_copy['BMI'].median(), inplace=True)"
   ]
  },
  {
   "cell_type": "markdown",
   "metadata": {},
   "source": [
    "<div dir=\"rtl\" style=\"font-size:16px;\">\n",
    "حال دوباره نمودار هیستوگرام داده ها را رسم می کنیم و توزیع داده ها با مقادیر جایگزین شده را مشاهده می کنیم:\n",
    "</div>"
   ]
  },
  {
   "cell_type": "code",
   "execution_count": 18,
   "metadata": {},
   "outputs": [
    {
     "data": {
      "image/png": "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\n",
      "text/plain": [
       "<Figure size 1080x1080 with 9 Axes>"
      ]
     },
     "metadata": {
      "needs_background": "light"
     },
     "output_type": "display_data"
    }
   ],
   "source": [
    "p = df_copy.hist(figsize=(15,15))"
   ]
  },
  {
   "cell_type": "markdown",
   "metadata": {},
   "source": [
    "<div dir=\"rtl\" style=\"font-size:16px;\">\n",
    "همانطور که مشاهده می شود نمودار داده ها در ستون های (Glucose, BloodPressure, SkinThickness, Insulin, BMI) به نمودار توزیع نرمال شبیه تر شدند.\n",
    "<br><br><hr>\n",
    "حال داده ها را با دستور زیر بررسی می کنیم تا از عدم وجود missing value مطممئن شویم:\n",
    "</div>"
   ]
  },
  {
   "cell_type": "code",
   "execution_count": 20,
   "metadata": {},
   "outputs": [
    {
     "data": {
      "text/plain": [
       "Pregnancies      False\n",
       "Glucose          False\n",
       "BloodPressure    False\n",
       "SkinThickness    False\n",
       "Insulin          False\n",
       "BMI              False\n",
       "DPF              False\n",
       "Age              False\n",
       "Outcome          False\n",
       "dtype: bool"
      ]
     },
     "execution_count": 20,
     "metadata": {},
     "output_type": "execute_result"
    }
   ],
   "source": [
    "df_copy.isnull().any()"
   ]
  },
  {
   "cell_type": "markdown",
   "metadata": {},
   "source": [
    "<div dir=\"rtl\" style=\"font-size:16px;\">\n",
    "از کتابخانه scikit-learn استفاده می کنیم و داده ها را به دو دسته داده های یادگیری و تست تقسیم می کنیم که 80 درصد داده ها را برای یادگیری و 20 درصد آن ها را برای تست مدل بکار می بریم:\n",
    "</div>"
   ]
  },
  {
   "cell_type": "code",
   "execution_count": 142,
   "metadata": {},
   "outputs": [
    {
     "name": "stdout",
     "output_type": "stream",
     "text": [
      "X_train size: (1600, 8), X_test size: (400, 8)\n"
     ]
    }
   ],
   "source": [
    "from sklearn.model_selection import train_test_split\n",
    "\n",
    "X = df.drop(columns='Outcome')\n",
    "y = df['Outcome']\n",
    "\n",
    "X_train, X_test, y_train, y_test = train_test_split(X, y, test_size=0.20, random_state=0)\n",
    "print('X_train size: {}, X_test size: {}'.format(X_train.shape, X_test.shape))"
   ]
  },
  {
   "cell_type": "markdown",
   "metadata": {},
   "source": [
    "<div dir=\"rtl\" style=\"font-size:16px;\">\n",
    "از کتابخانه scikit-learn برای هم مقیاس کردن ویژگی ها که تحت عنوان Feature Scaling شناخته می شود استفاده می کنیم:\n",
    "</div>"
   ]
  },
  {
   "cell_type": "code",
   "execution_count": 143,
   "metadata": {},
   "outputs": [],
   "source": [
    "from sklearn.preprocessing import StandardScaler\n",
    "sc = StandardScaler()\n",
    "X_train = sc.fit_transform(X_train)\n",
    "X_test = sc.transform(X_test)"
   ]
  },
  {
   "cell_type": "markdown",
   "metadata": {},
   "source": [
    "<div dir=\"rtl\" style=\"font-size:16px;\">\n",
    "<b>آموزش مدل</b><br><br>\n",
    "با توجه به اینکه خروجی این مساله داشتن یا نداشتن دیابت است یعنی از نوع classification می باشد و در اینجا از سه مدل درخت تصمیم، رگرسیون لجستیک و SVM که مناسب این نوع مساله می باشند استفاده می کنیم.\n",
    "<br><br><hr>\n",
    "ابتدا از کتابخانه scikit-learn مدل درخت تصمیم را وارد می کنیم و با ماکزیمم نود 10 این مدل را با داده های یادگیری آموزش می دهیم:\n",
    "</div>"
   ]
  },
  {
   "cell_type": "code",
   "execution_count": 133,
   "metadata": {},
   "outputs": [
    {
     "data": {
      "text/plain": [
       "DecisionTreeClassifier(criterion='entropy', max_depth=10)"
      ]
     },
     "execution_count": 133,
     "metadata": {},
     "output_type": "execute_result"
    }
   ],
   "source": [
    "from sklearn.tree import DecisionTreeClassifier\n",
    "\n",
    "dtree = DecisionTreeClassifier(criterion=\"entropy\", max_depth=10)\n",
    "dtree.fit(X_train, y_train)"
   ]
  },
  {
   "cell_type": "markdown",
   "metadata": {},
   "source": [
    "<div dir=\"rtl\" style=\"font-size:16px;\">\n",
    "حال داده های تست را به این مدل می دهیم و دقت یادگیری مدل را با این داده ها می سنجیم:\n",
    "</div>"
   ]
  },
  {
   "cell_type": "code",
   "execution_count": 134,
   "metadata": {},
   "outputs": [
    {
     "name": "stdout",
     "output_type": "stream",
     "text": [
      "Accuracy Score = 0.9275\n"
     ]
    }
   ],
   "source": [
    "from sklearn import metrics\n",
    "\n",
    "predictions = dtree.predict(X_test)\n",
    "print(\"Accuracy Score =\", format(metrics.accuracy_score(y_test,predictions)))"
   ]
  },
  {
   "cell_type": "markdown",
   "metadata": {},
   "source": [
    "<div dir=\"rtl\" style=\"font-size:16px;\">\n",
    "بطور مشابه از کتابخانه scikit-learn مدل رگرسیون لجستیک را با داده های یادگیری آموزش می دهیم:\n",
    "</div>"
   ]
  },
  {
   "cell_type": "code",
   "execution_count": 144,
   "metadata": {},
   "outputs": [
    {
     "data": {
      "text/plain": [
       "LogisticRegression()"
      ]
     },
     "execution_count": 144,
     "metadata": {},
     "output_type": "execute_result"
    }
   ],
   "source": [
    "from sklearn.linear_model import LogisticRegression\n",
    "\n",
    "logreg = LogisticRegression(solver='lbfgs', multi_class='auto')\n",
    "logreg.fit(X_train, y_train)"
   ]
  },
  {
   "cell_type": "markdown",
   "metadata": {},
   "source": [
    "<div dir=\"rtl\" style=\"font-size:16px;\">\n",
    "حال داده های تست را به این مدل می دهیم و دقت یادگیری مدل را با این داده ها می سنجیم:\n",
    "</div>"
   ]
  },
  {
   "cell_type": "code",
   "execution_count": 145,
   "metadata": {},
   "outputs": [
    {
     "name": "stdout",
     "output_type": "stream",
     "text": [
      "Accuracy Score = 0.78\n"
     ]
    }
   ],
   "source": [
    "from sklearn import metrics\n",
    "\n",
    "predictions = logreg.predict(X_test)\n",
    "print(\"Accuracy Score =\", format(metrics.accuracy_score(y_test,predictions)))"
   ]
  },
  {
   "cell_type": "markdown",
   "metadata": {},
   "source": [
    "<div dir=\"rtl\" style=\"font-size:16px;\">\n",
    "و در نهایت از کتابخانه scikit-learn مدل SVM را با داده های یادگیری آموزش می دهیم:\n",
    "</div>"
   ]
  },
  {
   "cell_type": "code",
   "execution_count": 146,
   "metadata": {},
   "outputs": [
    {
     "data": {
      "text/plain": [
       "SVC()"
      ]
     },
     "execution_count": 146,
     "metadata": {},
     "output_type": "execute_result"
    }
   ],
   "source": [
    "from sklearn.svm import SVC\n",
    "\n",
    "svc_model = SVC()\n",
    "svc_model.fit(X_train, y_train)"
   ]
  },
  {
   "cell_type": "markdown",
   "metadata": {},
   "source": [
    "<div dir=\"rtl\" style=\"font-size:16px;\">\n",
    "حال داده های تست را به این مدل می دهیم و دقت یادگیری مدل را با این داده ها می سنجیم:\n",
    "</div>"
   ]
  },
  {
   "cell_type": "code",
   "execution_count": 147,
   "metadata": {},
   "outputs": [
    {
     "name": "stdout",
     "output_type": "stream",
     "text": [
      "Accuracy Score = 0.815\n"
     ]
    }
   ],
   "source": [
    "from sklearn import metrics\n",
    "\n",
    "predictions = svc_model.predict(X_test)\n",
    "print(\"Accuracy Score =\", format(metrics.accuracy_score(y_test,predictions)))"
   ]
  },
  {
   "cell_type": "markdown",
   "metadata": {},
   "source": [
    "<div dir=\"rtl\" style=\"font-size:16px;\">\n",
    "<b>نتیجه</b>\n",
    "<br><br>\n",
    "با توجه به دقت حاصل از یادگیری بر روی داده های تست نتیجه می گیریم که مدل درخت تصمیم از دو مدل دیگر در یادگیری بهتر عمل می کند.\n",
    "</div>"
   ]
  },
  {
   "cell_type": "markdown",
   "metadata": {},
   "source": [
    "<div dir=\"rtl\" style=\"font-size:16px;\">\n",
    "<hr>\n",
    "از اعتبارسنجی متقابل برای مشخص شدن اینکه تا چه اندازه نتایح قابل تعمیم و مستقل از داده‌های آموزشی است استفاده می کنیم:\n",
    "</div>"
   ]
  },
  {
   "cell_type": "code",
   "execution_count": 165,
   "metadata": {},
   "outputs": [
    {
     "name": "stdout",
     "output_type": "stream",
     "text": [
      "Average Accuracy : 90%\n"
     ]
    }
   ],
   "source": [
    "from sklearn.model_selection import cross_val_score\n",
    "scores = cross_val_score(DecisionTreeClassifier(criterion=\"entropy\", max_depth=10), X_train, y_train)\n",
    "print('Average Accuracy : {}%'.format(round(sum(scores)*100/len(scores)), 3))"
   ]
  },
  {
   "cell_type": "markdown",
   "metadata": {},
   "source": [
    "<div dir=\"rtl\" style=\"font-size:16px;\">\n",
    "ماتریس درهم ریختگی را برای بررسی عملکرد این الگوریتم رسم می نماییم:\n",
    "</div>"
   ]
  },
  {
   "cell_type": "code",
   "execution_count": 166,
   "metadata": {},
   "outputs": [
    {
     "data": {
      "text/plain": [
       "array([[266,   6],\n",
       "       [ 23, 105]], dtype=int64)"
      ]
     },
     "execution_count": 166,
     "metadata": {},
     "output_type": "execute_result"
    }
   ],
   "source": [
    "from sklearn.metrics import confusion_matrix, classification_report, accuracy_score\n",
    "y_pred = dtree.predict(X_test)\n",
    "cm = confusion_matrix(y_test, y_pred)\n",
    "cm"
   ]
  },
  {
   "cell_type": "markdown",
   "metadata": {},
   "source": [
    "<div dir=\"rtl\" style=\"font-size:16px;\">\n",
    "همانطور که در نمودار این ماتریس مشاهده می شود 266 مورد از داده های تست را که دیابت نداشتند درست تشخیص داده است این مدل و 105 مورد از داده های تست را که دیابت داشتند را نیز درست تشخصی داده است و فقط در 29 مورد از این داده ها تشخیص نادرست بوده است.\n",
    "</div>"
   ]
  },
  {
   "cell_type": "code",
   "execution_count": 169,
   "metadata": {},
   "outputs": [
    {
     "data": {
      "image/png": "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\n",
      "text/plain": [
       "<Figure size 720x504 with 2 Axes>"
      ]
     },
     "metadata": {
      "needs_background": "light"
     },
     "output_type": "display_data"
    }
   ],
   "source": [
    "plt.figure(figsize=(10,7))\n",
    "p = sns.heatmap(cm, annot=True, cmap=\"Blues\", fmt='g')\n",
    "plt.title('Confusion matrix for Decision Tree Classifier Model - Test Set')\n",
    "plt.xlabel('Predicted Values')\n",
    "plt.ylabel('Actual Values')\n",
    "plt.show()"
   ]
  },
  {
   "cell_type": "markdown",
   "metadata": {},
   "source": [
    "<div dir=\"rtl\" style=\"font-size:16px;\">\n",
    "از این رو میزان دقت این مدل در داده های تست به صورت زیر است:\n",
    "</div>"
   ]
  },
  {
   "cell_type": "code",
   "execution_count": 168,
   "metadata": {},
   "outputs": [
    {
     "name": "stdout",
     "output_type": "stream",
     "text": [
      "Accuracy on test set: 92.75%\n"
     ]
    }
   ],
   "source": [
    "score = round(accuracy_score(y_test, y_pred),4)*100\n",
    "print(\"Accuracy on test set: {}%\".format(score))"
   ]
  },
  {
   "cell_type": "markdown",
   "metadata": {},
   "source": [
    "<div dir=\"rtl\" style=\"font-size:16px;\">\n",
    "حال همین ماتریس را برای داده های یادگیری در این مدل رسم می کنیم و عملکرد آن در داده های یادگیری را مشاهده می نماییم:\n",
    "</div>"
   ]
  },
  {
   "cell_type": "code",
   "execution_count": 172,
   "metadata": {},
   "outputs": [
    {
     "data": {
      "text/plain": [
       "array([[1036,    8],\n",
       "       [  69,  487]], dtype=int64)"
      ]
     },
     "execution_count": 172,
     "metadata": {},
     "output_type": "execute_result"
    }
   ],
   "source": [
    "from sklearn.metrics import confusion_matrix, classification_report, accuracy_score\n",
    "y_train_pred = dtree.predict(X_train)\n",
    "cm = confusion_matrix(y_train, y_train_pred)\n",
    "cm"
   ]
  },
  {
   "cell_type": "markdown",
   "metadata": {},
   "source": [
    "<div dir=\"rtl\" style=\"font-size:16px;\">\n",
    "همانطور که در نمودار این ماتریس مشاهده می شود 1036 مورد از داده های یادگیری را که دیابت نداشتند درست تشخیص داده است این مدل و 487 مورد از داده های یادگیری را که دیابت داشتند را نیز درست تشخصی داده است و فقط در 77 مورد از این داده ها تشخیص نادرست بوده است.\n",
    "</div>"
   ]
  },
  {
   "cell_type": "code",
   "execution_count": 180,
   "metadata": {},
   "outputs": [
    {
     "data": {
      "image/png": "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\n",
      "text/plain": [
       "<Figure size 720x504 with 2 Axes>"
      ]
     },
     "metadata": {
      "needs_background": "light"
     },
     "output_type": "display_data"
    }
   ],
   "source": [
    "plt.figure(figsize=(10,7))\n",
    "p = sns.heatmap(cm, annot=True, cmap=\"Blues\", fmt='g')\n",
    "plt.title('Confusion matrix for Decision Tree Classifier Model - Train Set')\n",
    "plt.xlabel('Predicted Values')\n",
    "plt.ylabel('Actual Values')\n",
    "plt.show()"
   ]
  },
  {
   "cell_type": "markdown",
   "metadata": {},
   "source": [
    "<div dir=\"rtl\" style=\"font-size:16px;\">\n",
    "از این رو میزان دقت این مدل در داده های یادگیری به صورت زیر است:\n",
    "</div>"
   ]
  },
  {
   "cell_type": "code",
   "execution_count": 181,
   "metadata": {},
   "outputs": [
    {
     "name": "stdout",
     "output_type": "stream",
     "text": [
      "Accuracy on trainning set: 95.19%\n"
     ]
    }
   ],
   "source": [
    "score = round(accuracy_score(y_train, y_train_pred),4)*100\n",
    "print(\"Accuracy on trainning set: {}%\".format(score))\n"
   ]
  },
  {
   "cell_type": "markdown",
   "metadata": {},
   "source": [
    "<div dir=\"rtl\" style=\"font-size:16px;\">\n",
    "حال تابعی برای پیش بینی با این مدل ایجاد می کنیم که به با وارد کردن مقادیر (Pregnancies, Glucose, BloodPressure, SkinThickness, Insulin, BMI, DPF, Age) به ما بگوید دیابت داریم یا نه!\n",
    "</div>"
   ]
  },
  {
   "cell_type": "code",
   "execution_count": 182,
   "metadata": {},
   "outputs": [],
   "source": [
    "def predict_diabetes(Pregnancies, Glucose, BloodPressure, SkinThickness, Insulin, BMI, DPF, Age):\n",
    "    preg = int(Pregnancies)\n",
    "    glucose = float(Glucose)\n",
    "    bp = float(BloodPressure)\n",
    "    st = float(SkinThickness)\n",
    "    insulin = float(Insulin)\n",
    "    bmi = float(BMI)\n",
    "    dpf = float(DPF)\n",
    "    age = int(Age)\n",
    "\n",
    "    x = [[preg, glucose, bp, st, insulin, bmi, dpf, age]]\n",
    "    x = sc.transform(x)\n",
    "\n",
    "    return dtree.predict(x)"
   ]
  },
  {
   "cell_type": "markdown",
   "metadata": {},
   "source": [
    "<div dir=\"rtl\" style=\"font-size:16px;\">\n",
    "به عنوان مثال مقادیر (0, 120, 82, 17, 86, 33, 0.347, 35) را به عنوان ورودی به این تابع می دهیم تا دیابتی بودن یا نبودن ما را با استفاده از مدل مشخص نماید:\n",
    "</div>"
   ]
  },
  {
   "cell_type": "code",
   "execution_count": 183,
   "metadata": {},
   "outputs": [
    {
     "name": "stdout",
     "output_type": "stream",
     "text": [
      "خوشبختانه دیابت ندارید!\n"
     ]
    }
   ],
   "source": [
    "prediction = predict_diabetes(0, 120, 82, 17, 86, 33, 0.347, 35)[0]\n",
    "if prediction:\n",
    "  print('متاسفانه دیابت دارید!')\n",
    "else:\n",
    "  print(\"خوشبختانه دیابت ندارید!\")"
   ]
  },
 ],
 "metadata": {
  "kernelspec": {
   "display_name": "Python 3",
   "language": "python",
   "name": "python3"
  },
  "language_info": {
   "codemirror_mode": {
    "name": "ipython",
    "version": 3
   },
   "file_extension": ".py",
   "mimetype": "text/x-python",
   "name": "python",
   "nbconvert_exporter": "python",
   "pygments_lexer": "ipython3",
   "version": "3.8.5"
  }
 },
 "nbformat": 4,
 "nbformat_minor": 4
}
